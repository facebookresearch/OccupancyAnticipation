{
 "cells": [
  {
   "cell_type": "code",
   "execution_count": null,
   "metadata": {},
   "outputs": [],
   "source": [
    "import numpy as np\n",
    "import matplotlib.pyplot as plt\n",
    "\n",
    "\n",
    "def colorize_ego_map(ego_map):\n",
    "    \"\"\"\n",
    "    ego_map - (V, V, 2) array where 1st channel represents prob(occupied space) an\n",
    "              d 2nd channel represents prob(explored space)\n",
    "    \"\"\"\n",
    "    explored_mask = ego_map[..., 1] > 0.5\n",
    "    occupied_mask = np.logical_and(ego_map[..., 0] > 0.5, explored_mask)\n",
    "    free_space_mask = np.logical_and(ego_map[..., 0] <= 0.5, explored_mask)\n",
    "    unexplored_mask = ego_map[..., 1] <= 0.5\n",
    "\n",
    "    ego_map_color = np.zeros((*ego_map.shape[:2], 3), np.uint8)\n",
    "\n",
    "    # White unexplored map\n",
    "    ego_map_color[unexplored_mask, 0] = 255\n",
    "    ego_map_color[unexplored_mask, 1] = 255\n",
    "    ego_map_color[unexplored_mask, 2] = 255\n",
    "\n",
    "    # Blue occupied map\n",
    "    ego_map_color[occupied_mask, 0] = 0\n",
    "    ego_map_color[occupied_mask, 1] = 0\n",
    "    ego_map_color[occupied_mask, 2] = 255\n",
    "\n",
    "    # Green free space map\n",
    "    ego_map_color[free_space_mask, 0] = 0\n",
    "    ego_map_color[free_space_mask, 1] = 255\n",
    "    ego_map_color[free_space_mask, 2] = 0\n",
    "\n",
    "    return ego_map_color\n",
    "\n",
    "\n",
    "def visualize(path):\n",
    "    x = np.load(path)\n",
    "    x_rgb = colorize_ego_map(x)\n",
    "    figure = plt.figure()\n",
    "    plt.imshow(x_rgb)\n",
    "    plt.show()"
   ]
  },
  {
   "cell_type": "code",
   "execution_count": null,
   "metadata": {},
   "outputs": [],
   "source": [
    "visualize(\"/vision/srama/Research/OccupancyAnticipationStretch/data/datasets/exploration/gibson/v1/val/occant_gt_maps/wall_maps/Cantwell.glb_0.npy\")"
   ]
  },
  {
   "cell_type": "code",
   "execution_count": null,
   "metadata": {},
   "outputs": [],
   "source": [
    "visualize(\"/vision/srama/Research/OccupancyAnticipationStretch/data/datasets/exploration/gibson/v1/val/occant_gt_maps/seen_area_maps/Cantwell.glb_0.npy\")"
   ]
  }
 ],
 "metadata": {
  "kernelspec": {
   "display_name": "occant_stretch_2",
   "language": "python",
   "name": "python3"
  },
  "language_info": {
   "codemirror_mode": {
    "name": "ipython",
    "version": 3
   },
   "file_extension": ".py",
   "mimetype": "text/x-python",
   "name": "python",
   "nbconvert_exporter": "python",
   "pygments_lexer": "ipython3",
   "version": "3.7.12"
  },
  "orig_nbformat": 4
 },
 "nbformat": 4,
 "nbformat_minor": 2
}
